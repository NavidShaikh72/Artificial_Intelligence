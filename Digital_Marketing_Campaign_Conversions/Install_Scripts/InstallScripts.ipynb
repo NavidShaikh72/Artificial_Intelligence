{
 "cells": [
  {
   "cell_type": "code",
   "id": "initial_id",
   "metadata": {
    "collapsed": true,
    "ExecuteTime": {
     "end_time": "2025-10-12T18:53:54.777189Z",
     "start_time": "2025-10-12T18:53:53.631561Z"
    }
   },
   "source": [
    "#!pip install matplotlib\n",
    "#!pip install pandas\n",
    "#!pip install seaborn\n",
    "!pip install scikit-learn"
   ],
   "outputs": [
    {
     "name": "stdout",
     "output_type": "stream",
     "text": [
      "Requirement already satisfied: scikit-learn in d:\\navid\\artificial_intelligence\\artificial_intelligence\\.venv\\lib\\site-packages (1.7.2)\n",
      "Requirement already satisfied: numpy>=1.22.0 in d:\\navid\\artificial_intelligence\\artificial_intelligence\\.venv\\lib\\site-packages (from scikit-learn) (2.3.3)\n",
      "Requirement already satisfied: scipy>=1.8.0 in d:\\navid\\artificial_intelligence\\artificial_intelligence\\.venv\\lib\\site-packages (from scikit-learn) (1.16.2)\n",
      "Requirement already satisfied: joblib>=1.2.0 in d:\\navid\\artificial_intelligence\\artificial_intelligence\\.venv\\lib\\site-packages (from scikit-learn) (1.5.2)\n",
      "Requirement already satisfied: threadpoolctl>=3.1.0 in d:\\navid\\artificial_intelligence\\artificial_intelligence\\.venv\\lib\\site-packages (from scikit-learn) (3.6.0)\n"
     ]
    },
    {
     "name": "stderr",
     "output_type": "stream",
     "text": [
      "\n",
      "[notice] A new release of pip is available: 25.1.1 -> 25.2\n",
      "[notice] To update, run: python.exe -m pip install --upgrade pip\n"
     ]
    }
   ],
   "execution_count": 6
  },
  {
   "metadata": {
    "ExecuteTime": {
     "end_time": "2025-10-12T18:54:02.082676Z",
     "start_time": "2025-10-12T18:54:00.696231Z"
    }
   },
   "cell_type": "code",
   "source": "!pip install imblearn",
   "id": "aeb3f2cc012604e3",
   "outputs": [
    {
     "name": "stdout",
     "output_type": "stream",
     "text": [
      "Requirement already satisfied: imblearn in d:\\navid\\artificial_intelligence\\artificial_intelligence\\.venv\\lib\\site-packages (0.0)\n",
      "Requirement already satisfied: imbalanced-learn in d:\\navid\\artificial_intelligence\\artificial_intelligence\\.venv\\lib\\site-packages (from imblearn) (0.14.0)\n",
      "Requirement already satisfied: numpy<3,>=1.25.2 in d:\\navid\\artificial_intelligence\\artificial_intelligence\\.venv\\lib\\site-packages (from imbalanced-learn->imblearn) (2.3.3)\n",
      "Requirement already satisfied: scipy<2,>=1.11.4 in d:\\navid\\artificial_intelligence\\artificial_intelligence\\.venv\\lib\\site-packages (from imbalanced-learn->imblearn) (1.16.2)\n",
      "Requirement already satisfied: scikit-learn<2,>=1.4.2 in d:\\navid\\artificial_intelligence\\artificial_intelligence\\.venv\\lib\\site-packages (from imbalanced-learn->imblearn) (1.7.2)\n",
      "Requirement already satisfied: joblib<2,>=1.2.0 in d:\\navid\\artificial_intelligence\\artificial_intelligence\\.venv\\lib\\site-packages (from imbalanced-learn->imblearn) (1.5.2)\n",
      "Requirement already satisfied: threadpoolctl<4,>=2.0.0 in d:\\navid\\artificial_intelligence\\artificial_intelligence\\.venv\\lib\\site-packages (from imbalanced-learn->imblearn) (3.6.0)\n"
     ]
    },
    {
     "name": "stderr",
     "output_type": "stream",
     "text": [
      "\n",
      "[notice] A new release of pip is available: 25.1.1 -> 25.2\n",
      "[notice] To update, run: python.exe -m pip install --upgrade pip\n"
     ]
    }
   ],
   "execution_count": 7
  },
  {
   "metadata": {
    "ExecuteTime": {
     "end_time": "2025-10-12T18:57:10.719546Z",
     "start_time": "2025-10-12T18:57:08.414332Z"
    }
   },
   "cell_type": "code",
   "source": "!pip install xgboost",
   "id": "e68372fa8b603cd3",
   "outputs": [
    {
     "name": "stdout",
     "output_type": "stream",
     "text": [
      "Collecting xgboost\n",
      "  Using cached xgboost-3.0.5-py3-none-win_amd64.whl.metadata (2.1 kB)\n",
      "Requirement already satisfied: numpy in d:\\navid\\artificial_intelligence\\artificial_intelligence\\.venv\\lib\\site-packages (from xgboost) (2.3.3)\n",
      "Requirement already satisfied: scipy in d:\\navid\\artificial_intelligence\\artificial_intelligence\\.venv\\lib\\site-packages (from xgboost) (1.16.2)\n",
      "Using cached xgboost-3.0.5-py3-none-win_amd64.whl (56.8 MB)\n",
      "Installing collected packages: xgboost\n",
      "Successfully installed xgboost-3.0.5\n"
     ]
    }
   ],
   "execution_count": 8
  },
  {
   "metadata": {},
   "cell_type": "code",
   "outputs": [],
   "execution_count": null,
   "source": "",
   "id": "49b019ab9d55fff9"
  }
 ],
 "metadata": {
  "kernelspec": {
   "display_name": "Python 3",
   "language": "python",
   "name": "python3"
  },
  "language_info": {
   "codemirror_mode": {
    "name": "ipython",
    "version": 2
   },
   "file_extension": ".py",
   "mimetype": "text/x-python",
   "name": "python",
   "nbconvert_exporter": "python",
   "pygments_lexer": "ipython2",
   "version": "2.7.6"
  }
 },
 "nbformat": 4,
 "nbformat_minor": 5
}
